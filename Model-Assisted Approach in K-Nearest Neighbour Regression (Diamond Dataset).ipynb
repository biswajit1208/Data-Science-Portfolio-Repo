{
 "cells": [
  {
   "cell_type": "code",
   "execution_count": null,
   "metadata": {},
   "outputs": [],
   "source": [
    "#import library\n",
    "import numpy as np\n",
    "import pandas as pd\n",
    "import math"
   ]
  },
  {
   "cell_type": "code",
   "execution_count": null,
   "metadata": {},
   "outputs": [],
   "source": [
    "#import dataset\n",
    "dat_1=pd.read_csv(\"B:\\\\sem 4\\\\project\\\\Diamond dataset.csv\")"
   ]
  },
  {
   "cell_type": "code",
   "execution_count": null,
   "metadata": {},
   "outputs": [],
   "source": [
    "#show dataset\n",
    "dat_1.head()"
   ]
  },
  {
   "cell_type": "code",
   "execution_count": null,
   "metadata": {},
   "outputs": [],
   "source": [
    "dat_1.info()"
   ]
  },
  {
   "cell_type": "code",
   "execution_count": null,
   "metadata": {},
   "outputs": [],
   "source": [
    "dat_1.columns"
   ]
  },
  {
   "cell_type": "code",
   "execution_count": null,
   "metadata": {},
   "outputs": [],
   "source": [
    "from sklearn.preprocessing import LabelEncoder\n",
    "labelencoder=LabelEncoder()\n",
    "dat_1[\"cut\"]=labelencoder.fit_transform(dat_1[\"cut\"])\n",
    "dat_1[\"color\"]=labelencoder.fit_transform(dat_1[\"color\"])\n",
    "dat_1[\"clarity\"]=labelencoder.fit_transform(dat_1[\"clarity\"])"
   ]
  },
  {
   "cell_type": "code",
   "execution_count": null,
   "metadata": {},
   "outputs": [],
   "source": [
    "dat_1.head()"
   ]
  },
  {
   "cell_type": "code",
   "execution_count": null,
   "metadata": {},
   "outputs": [],
   "source": [
    "dat_1.info()"
   ]
  },
  {
   "cell_type": "code",
   "execution_count": null,
   "metadata": {},
   "outputs": [],
   "source": [
    "#draw sample from dataset\n",
    "import random\n",
    "np.random.seed(20)\n",
    "from random import sample\n",
    "dat=dat_1.sample(500)\n",
    "dat"
   ]
  },
  {
   "cell_type": "code",
   "execution_count": null,
   "metadata": {},
   "outputs": [],
   "source": [
    "x=dat.iloc[:,:-1].values\n",
    "y=dat.iloc[:,-1].values"
   ]
  },
  {
   "cell_type": "code",
   "execution_count": null,
   "metadata": {},
   "outputs": [],
   "source": [
    "x"
   ]
  },
  {
   "cell_type": "code",
   "execution_count": null,
   "metadata": {},
   "outputs": [],
   "source": [
    "y"
   ]
  },
  {
   "cell_type": "code",
   "execution_count": null,
   "metadata": {},
   "outputs": [],
   "source": [
    "from sklearn.model_selection import train_test_split"
   ]
  },
  {
   "cell_type": "code",
   "execution_count": null,
   "metadata": {},
   "outputs": [],
   "source": [
    "# split the dataset\n",
    "x_train,x_test,y_train,y_test=train_test_split(x,y,test_size=0.2,random_state=1)"
   ]
  },
  {
   "cell_type": "code",
   "execution_count": null,
   "metadata": {},
   "outputs": [],
   "source": [
    "x_train"
   ]
  },
  {
   "cell_type": "code",
   "execution_count": null,
   "metadata": {},
   "outputs": [],
   "source": [
    "x_test"
   ]
  },
  {
   "cell_type": "code",
   "execution_count": null,
   "metadata": {},
   "outputs": [],
   "source": [
    "y_train"
   ]
  },
  {
   "cell_type": "code",
   "execution_count": null,
   "metadata": {},
   "outputs": [],
   "source": [
    "y_test"
   ]
  },
  {
   "cell_type": "code",
   "execution_count": null,
   "metadata": {},
   "outputs": [],
   "source": [
    "# distance code\n",
    "dis=[]\n",
    "for i in range(0,len(x_test)):\n",
    "    for j in range(0,len(x_train)):\n",
    "        d=math.sqrt(pow(x_test[i][0]-x_train[j][0],2)\n",
    "                    +pow(x_test[i][1]-x_train[j][1],2)\n",
    "                    +pow(x_test[i][2]-x_train[j][2],2)\n",
    "                    +pow(x_test[i][3]-x_train[j][3],2)\n",
    "                    +pow(x_test[i][4]-x_train[j][4],2)\n",
    "                    +pow(x_test[i][5]-x_train[j][5],2)\n",
    "                    +pow(x_test[i][6]-x_train[j][6],2)\n",
    "                    +pow(x_test[i][7]-x_train[j][7],2)\n",
    "                    +pow(x_test[i][8]-x_train[j][8],2))\n",
    "        dis.append(d)               "
   ]
  },
  {
   "cell_type": "code",
   "execution_count": null,
   "metadata": {},
   "outputs": [],
   "source": [
    "dis"
   ]
  },
  {
   "cell_type": "code",
   "execution_count": null,
   "metadata": {},
   "outputs": [],
   "source": [
    "diss=np.array(dis)\n",
    "shape=(len(y_test),len(y_train))\n",
    "distance=diss.reshape(shape)"
   ]
  },
  {
   "cell_type": "code",
   "execution_count": null,
   "metadata": {},
   "outputs": [],
   "source": [
    "#Distance matrix\n",
    "distance"
   ]
  },
  {
   "cell_type": "code",
   "execution_count": null,
   "metadata": {},
   "outputs": [],
   "source": [
    "#Index wise sort\n",
    "sort_index=np.argsort(distance)"
   ]
  },
  {
   "cell_type": "code",
   "execution_count": null,
   "metadata": {},
   "outputs": [],
   "source": [
    "#value index\n",
    "sort_index"
   ]
  },
  {
   "cell_type": "code",
   "execution_count": null,
   "metadata": {},
   "outputs": [],
   "source": [
    "# Distance index wise y train value\n",
    "y_train[sort_index]"
   ]
  },
  {
   "cell_type": "code",
   "execution_count": null,
   "metadata": {},
   "outputs": [],
   "source": [
    "# select k value\n",
    "k=6"
   ]
  },
  {
   "cell_type": "code",
   "execution_count": null,
   "metadata": {},
   "outputs": [],
   "source": [
    "# simple K-NN average calculation\n",
    "s=0\n",
    "average=[]\n",
    "for i in range (0,len(y_train[sort_index])):\n",
    "    for j in range (0,k):\n",
    "        s=s+y_train[sort_index][i][j]\n",
    "    avg=s/k\n",
    "    s=0\n",
    "    average.append(avg)"
   ]
  },
  {
   "cell_type": "code",
   "execution_count": null,
   "metadata": {},
   "outputs": [],
   "source": [
    "#pedict value\n",
    "average"
   ]
  },
  {
   "cell_type": "code",
   "execution_count": null,
   "metadata": {},
   "outputs": [],
   "source": [
    "y_test"
   ]
  },
  {
   "cell_type": "code",
   "execution_count": null,
   "metadata": {},
   "outputs": [],
   "source": [
    "from sklearn.metrics import mean_squared_error\n",
    "from math import sqrt"
   ]
  },
  {
   "cell_type": "code",
   "execution_count": null,
   "metadata": {},
   "outputs": [],
   "source": [
    "sqrt(mean_squared_error(y_test,average))"
   ]
  },
  {
   "cell_type": "code",
   "execution_count": null,
   "metadata": {},
   "outputs": [],
   "source": [
    "from sklearn.metrics import r2_score\n",
    "r2_score(y_test,average)"
   ]
  },
  {
   "cell_type": "code",
   "execution_count": null,
   "metadata": {},
   "outputs": [],
   "source": [
    "#calculation average by greg estimator\n",
    "k=15"
   ]
  },
  {
   "cell_type": "code",
   "execution_count": null,
   "metadata": {},
   "outputs": [],
   "source": [
    "#beta calculation\n",
    "beta=[]\n",
    "h=0\n",
    "u=0\n",
    "for i in range (0,len(y_train[sort_index])):\n",
    "    for p in range (0,x_train.shape[1]):\n",
    "        for j in range (0,k):\n",
    "            h=h+y_train[sort_index][i][j]\n",
    "            u=u+x_train[sort_index][i][j][p]\n",
    "        b=(h/u)    \n",
    "        beta.append(b)\n",
    "        b=0\n",
    "        h=0\n",
    "        u=0\n",
    "beta=np.array(beta) \n",
    "shape=(len(y_test),x_train.shape[1])\n",
    "beta=beta.reshape(shape)\n",
    "beta        "
   ]
  },
  {
   "cell_type": "code",
   "execution_count": null,
   "metadata": {},
   "outputs": [],
   "source": [
    "# size measure variable\n",
    "#random no generate\n",
    "np.random.seed(20)\n",
    "z=np.random.uniform(0,1,len(x_train))\n",
    "p_i=z/sum(z)\n",
    "\n",
    "# first order inclusion probabilty\n",
    "pi=500*p_i\n",
    "pi_i=pi[sort_index]\n",
    "pi_i"
   ]
  },
  {
   "cell_type": "code",
   "execution_count": null,
   "metadata": {},
   "outputs": [],
   "source": [
    "# sumation x_i/pi_i value calculation\n",
    "x_i=[]\n",
    "e=0\n",
    "for i in range (0,len(y_train[sort_index])):\n",
    "    for p in range (0,x_train.shape[1]):\n",
    "        for j in range (0,k):\n",
    "            e=e+(x_train[sort_index][i][j][p]/pi_i[i][j])\n",
    "        x_i.append(e)\n",
    "        e=0 \n",
    "x_i=np.array(x_i) \n",
    "shape=(len(y_test),x_train.shape[1])\n",
    "x_i=x_i.reshape(shape)\n",
    "x_i        "
   ]
  },
  {
   "cell_type": "code",
   "execution_count": null,
   "metadata": {},
   "outputs": [],
   "source": [
    "# variable value calculation\n",
    "y_i=[]\n",
    "e=0\n",
    "for i in range (0,len(y_train[sort_index])):\n",
    "        for j in range (0,k):\n",
    "            e=e+(y_train[sort_index][i][j]/pi_i[i][j])\n",
    "        y_i.append(e)\n",
    "        e=0 "
   ]
  },
  {
   "cell_type": "code",
   "execution_count": null,
   "metadata": {},
   "outputs": [],
   "source": [
    "y_i"
   ]
  },
  {
   "cell_type": "code",
   "execution_count": null,
   "metadata": {},
   "outputs": [],
   "source": [
    "sum(x_train)[p]"
   ]
  },
  {
   "cell_type": "code",
   "execution_count": null,
   "metadata": {},
   "outputs": [],
   "source": [
    "# average calculate by greg\n",
    "t=0\n",
    "v=0\n",
    "average_greg=[]\n",
    "for i in range (0,len(y_train[sort_index])):\n",
    "    for p in range (0,x_train.shape[1]):\n",
    "        v=v+(beta[i][p]*(sum(x_train)[p]-x_i[i][p]))\n",
    "    t=y_i[i]+v   \n",
    "    av=t/5000\n",
    "    t=0\n",
    "    average_greg.append(av)\n",
    "    av=0\n",
    "    v=0"
   ]
  },
  {
   "cell_type": "code",
   "execution_count": null,
   "metadata": {},
   "outputs": [],
   "source": [
    "average_greg"
   ]
  },
  {
   "cell_type": "code",
   "execution_count": null,
   "metadata": {},
   "outputs": [],
   "source": [
    "y_test"
   ]
  },
  {
   "cell_type": "code",
   "execution_count": null,
   "metadata": {},
   "outputs": [],
   "source": [
    "sqrt(mean_squared_error(y_test,average_greg))"
   ]
  },
  {
   "cell_type": "code",
   "execution_count": null,
   "metadata": {},
   "outputs": [],
   "source": [
    "from sklearn.metrics import r2_score\n",
    "r2_score(y_test,average_greg)"
   ]
  },
  {
   "cell_type": "code",
   "execution_count": null,
   "metadata": {},
   "outputs": [],
   "source": [
    "# weighted knn\n",
    "k=7"
   ]
  },
  {
   "cell_type": "code",
   "execution_count": null,
   "metadata": {},
   "outputs": [],
   "source": [
    "d=distance.sort()\n",
    "w_k=1/distance\n",
    "w_k"
   ]
  },
  {
   "cell_type": "code",
   "execution_count": null,
   "metadata": {},
   "outputs": [],
   "source": [
    "# weigted K-NN average calculation\n",
    "s_1=0\n",
    "s_2=0\n",
    "weight_average=[]\n",
    "for i in range (0,len(y_train[sort_index])):\n",
    "    for j in range (0,k):\n",
    "        # s=s+y_train[sort_index][i][j]\n",
    "        s_1=s_1+((y_train[sort_index][i][j]*w_k[i][j])/pi_i[i][j])\n",
    "        s_2=s_2+(w_k[i][j]/pi_i[i][j])\n",
    "    avg=s_1/s_2\n",
    "    s_1=0\n",
    "    s_2=0\n",
    "    weight_average.append(avg)"
   ]
  },
  {
   "cell_type": "code",
   "execution_count": null,
   "metadata": {},
   "outputs": [],
   "source": [
    "weight_average"
   ]
  },
  {
   "cell_type": "code",
   "execution_count": null,
   "metadata": {},
   "outputs": [],
   "source": [
    "sqrt(mean_squared_error(y_test,weight_average))"
   ]
  },
  {
   "cell_type": "code",
   "execution_count": null,
   "metadata": {},
   "outputs": [],
   "source": [
    "from sklearn.metrics import r2_score\n",
    "r2_score(y_test,weight_average)"
   ]
  }
 ],
 "metadata": {
  "kernelspec": {
   "display_name": "Python 3",
   "language": "python",
   "name": "python3"
  },
  "language_info": {
   "codemirror_mode": {
    "name": "ipython",
    "version": 3
   },
   "file_extension": ".py",
   "mimetype": "text/x-python",
   "name": "python",
   "nbconvert_exporter": "python",
   "pygments_lexer": "ipython3",
   "version": "3.8.5"
  }
 },
 "nbformat": 4,
 "nbformat_minor": 4
}
